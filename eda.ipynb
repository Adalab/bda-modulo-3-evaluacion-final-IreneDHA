{
 "cells": [
  {
   "cell_type": "code",
   "execution_count": 1,
   "id": "c5021b38",
   "metadata": {},
   "outputs": [],
   "source": [
    "#dataframes\n",
    "import pandas as pd\n",
    "pd.set_option('display.max_columns', None)\n",
    "#operaciones matemáticas\n",
    "import numpy as np"
   ]
  },
  {
   "cell_type": "code",
   "execution_count": 3,
   "id": "b271ff2c",
   "metadata": {},
   "outputs": [],
   "source": [
    "info_vuelos = pd.read_csv(\"files/customer_flight_activity.csv\", index_col=0)\n",
    "info_loyalty = pd.read_csv(\"files/customer_loyalty_history.csv\", index_col=0)"
   ]
  },
  {
   "cell_type": "code",
   "execution_count": 10,
   "id": "ed92216e",
   "metadata": {},
   "outputs": [
    {
     "data": {
      "text/plain": [
       "(405624, 9)"
      ]
     },
     "execution_count": 10,
     "metadata": {},
     "output_type": "execute_result"
    }
   ],
   "source": [
    "info_vuelos.shape"
   ]
  },
  {
   "cell_type": "code",
   "execution_count": 5,
   "id": "d32f3cf8",
   "metadata": {},
   "outputs": [
    {
     "data": {
      "text/plain": [
       "(16737, 15)"
      ]
     },
     "execution_count": 5,
     "metadata": {},
     "output_type": "execute_result"
    }
   ],
   "source": [
    "info_loyalty.shape"
   ]
  },
  {
   "cell_type": "code",
   "execution_count": 7,
   "id": "05b308c0",
   "metadata": {},
   "outputs": [
    {
     "data": {
      "text/plain": [
       "3650616"
      ]
     },
     "execution_count": 7,
     "metadata": {},
     "output_type": "execute_result"
    }
   ],
   "source": [
    "info_vuelos.size"
   ]
  },
  {
   "cell_type": "code",
   "execution_count": 8,
   "id": "ac185735",
   "metadata": {},
   "outputs": [
    {
     "data": {
      "text/plain": [
       "251055"
      ]
     },
     "execution_count": 8,
     "metadata": {},
     "output_type": "execute_result"
    }
   ],
   "source": [
    "info_loyalty.size"
   ]
  },
  {
   "cell_type": "code",
   "execution_count": 12,
   "id": "6ea5cbf4",
   "metadata": {},
   "outputs": [
    {
     "data": {
      "text/html": [
       "<div>\n",
       "<style scoped>\n",
       "    .dataframe tbody tr th:only-of-type {\n",
       "        vertical-align: middle;\n",
       "    }\n",
       "\n",
       "    .dataframe tbody tr th {\n",
       "        vertical-align: top;\n",
       "    }\n",
       "\n",
       "    .dataframe thead th {\n",
       "        text-align: right;\n",
       "    }\n",
       "</style>\n",
       "<table border=\"1\" class=\"dataframe\">\n",
       "  <thead>\n",
       "    <tr style=\"text-align: right;\">\n",
       "      <th></th>\n",
       "      <th>Year</th>\n",
       "      <th>Month</th>\n",
       "      <th>Flights Booked</th>\n",
       "      <th>Flights with Companions</th>\n",
       "      <th>Total Flights</th>\n",
       "      <th>Distance</th>\n",
       "      <th>Points Accumulated</th>\n",
       "      <th>Points Redeemed</th>\n",
       "      <th>Dollar Cost Points Redeemed</th>\n",
       "    </tr>\n",
       "    <tr>\n",
       "      <th>Loyalty Number</th>\n",
       "      <th></th>\n",
       "      <th></th>\n",
       "      <th></th>\n",
       "      <th></th>\n",
       "      <th></th>\n",
       "      <th></th>\n",
       "      <th></th>\n",
       "      <th></th>\n",
       "      <th></th>\n",
       "    </tr>\n",
       "  </thead>\n",
       "  <tbody>\n",
       "    <tr>\n",
       "      <th>447675</th>\n",
       "      <td>2018</td>\n",
       "      <td>1</td>\n",
       "      <td>7</td>\n",
       "      <td>0</td>\n",
       "      <td>7</td>\n",
       "      <td>1960</td>\n",
       "      <td>196.00</td>\n",
       "      <td>0</td>\n",
       "      <td>0</td>\n",
       "    </tr>\n",
       "    <tr>\n",
       "      <th>267944</th>\n",
       "      <td>2018</td>\n",
       "      <td>3</td>\n",
       "      <td>10</td>\n",
       "      <td>0</td>\n",
       "      <td>10</td>\n",
       "      <td>2970</td>\n",
       "      <td>320.76</td>\n",
       "      <td>0</td>\n",
       "      <td>0</td>\n",
       "    </tr>\n",
       "    <tr>\n",
       "      <th>183755</th>\n",
       "      <td>2017</td>\n",
       "      <td>8</td>\n",
       "      <td>7</td>\n",
       "      <td>2</td>\n",
       "      <td>9</td>\n",
       "      <td>2538</td>\n",
       "      <td>253.00</td>\n",
       "      <td>0</td>\n",
       "      <td>0</td>\n",
       "    </tr>\n",
       "  </tbody>\n",
       "</table>\n",
       "</div>"
      ],
      "text/plain": [
       "                Year  Month  Flights Booked  Flights with Companions  \\\n",
       "Loyalty Number                                                         \n",
       "447675          2018      1               7                        0   \n",
       "267944          2018      3              10                        0   \n",
       "183755          2017      8               7                        2   \n",
       "\n",
       "                Total Flights  Distance  Points Accumulated  Points Redeemed  \\\n",
       "Loyalty Number                                                                 \n",
       "447675                      7      1960              196.00                0   \n",
       "267944                     10      2970              320.76                0   \n",
       "183755                      9      2538              253.00                0   \n",
       "\n",
       "                Dollar Cost Points Redeemed  \n",
       "Loyalty Number                               \n",
       "447675                                    0  \n",
       "267944                                    0  \n",
       "183755                                    0  "
      ]
     },
     "execution_count": 12,
     "metadata": {},
     "output_type": "execute_result"
    }
   ],
   "source": [
    "info_vuelos.sample(3)"
   ]
  },
  {
   "cell_type": "code",
   "execution_count": null,
   "id": "44bfebe3",
   "metadata": {},
   "outputs": [],
   "source": [
    "#efectivamente total flights es la suma de flights booked y flights with companions"
   ]
  },
  {
   "cell_type": "code",
   "execution_count": 13,
   "id": "c14cd549",
   "metadata": {},
   "outputs": [
    {
     "data": {
      "text/html": [
       "<div>\n",
       "<style scoped>\n",
       "    .dataframe tbody tr th:only-of-type {\n",
       "        vertical-align: middle;\n",
       "    }\n",
       "\n",
       "    .dataframe tbody tr th {\n",
       "        vertical-align: top;\n",
       "    }\n",
       "\n",
       "    .dataframe thead th {\n",
       "        text-align: right;\n",
       "    }\n",
       "</style>\n",
       "<table border=\"1\" class=\"dataframe\">\n",
       "  <thead>\n",
       "    <tr style=\"text-align: right;\">\n",
       "      <th></th>\n",
       "      <th>Year</th>\n",
       "      <th>Month</th>\n",
       "      <th>Flights Booked</th>\n",
       "      <th>Flights with Companions</th>\n",
       "      <th>Total Flights</th>\n",
       "      <th>Distance</th>\n",
       "      <th>Points Accumulated</th>\n",
       "      <th>Points Redeemed</th>\n",
       "      <th>Dollar Cost Points Redeemed</th>\n",
       "    </tr>\n",
       "    <tr>\n",
       "      <th>Loyalty Number</th>\n",
       "      <th></th>\n",
       "      <th></th>\n",
       "      <th></th>\n",
       "      <th></th>\n",
       "      <th></th>\n",
       "      <th></th>\n",
       "      <th></th>\n",
       "      <th></th>\n",
       "      <th></th>\n",
       "    </tr>\n",
       "  </thead>\n",
       "  <tbody>\n",
       "    <tr>\n",
       "      <th>100018</th>\n",
       "      <td>2017</td>\n",
       "      <td>1</td>\n",
       "      <td>3</td>\n",
       "      <td>0</td>\n",
       "      <td>3</td>\n",
       "      <td>1521</td>\n",
       "      <td>152.0</td>\n",
       "      <td>0</td>\n",
       "      <td>0</td>\n",
       "    </tr>\n",
       "    <tr>\n",
       "      <th>100102</th>\n",
       "      <td>2017</td>\n",
       "      <td>1</td>\n",
       "      <td>10</td>\n",
       "      <td>4</td>\n",
       "      <td>14</td>\n",
       "      <td>2030</td>\n",
       "      <td>203.0</td>\n",
       "      <td>0</td>\n",
       "      <td>0</td>\n",
       "    </tr>\n",
       "    <tr>\n",
       "      <th>100140</th>\n",
       "      <td>2017</td>\n",
       "      <td>1</td>\n",
       "      <td>6</td>\n",
       "      <td>0</td>\n",
       "      <td>6</td>\n",
       "      <td>1200</td>\n",
       "      <td>120.0</td>\n",
       "      <td>0</td>\n",
       "      <td>0</td>\n",
       "    </tr>\n",
       "  </tbody>\n",
       "</table>\n",
       "</div>"
      ],
      "text/plain": [
       "                Year  Month  Flights Booked  Flights with Companions  \\\n",
       "Loyalty Number                                                         \n",
       "100018          2017      1               3                        0   \n",
       "100102          2017      1              10                        4   \n",
       "100140          2017      1               6                        0   \n",
       "\n",
       "                Total Flights  Distance  Points Accumulated  Points Redeemed  \\\n",
       "Loyalty Number                                                                 \n",
       "100018                      3      1521               152.0                0   \n",
       "100102                     14      2030               203.0                0   \n",
       "100140                      6      1200               120.0                0   \n",
       "\n",
       "                Dollar Cost Points Redeemed  \n",
       "Loyalty Number                               \n",
       "100018                                    0  \n",
       "100102                                    0  \n",
       "100140                                    0  "
      ]
     },
     "execution_count": 13,
     "metadata": {},
     "output_type": "execute_result"
    }
   ],
   "source": [
    "info_vuelos.head(3)"
   ]
  },
  {
   "cell_type": "code",
   "execution_count": null,
   "id": "7da269bc",
   "metadata": {},
   "outputs": [],
   "source": [
    "#el año empieza en 2017 y mes 1"
   ]
  },
  {
   "cell_type": "code",
   "execution_count": 14,
   "id": "94d44f76",
   "metadata": {},
   "outputs": [
    {
     "data": {
      "text/html": [
       "<div>\n",
       "<style scoped>\n",
       "    .dataframe tbody tr th:only-of-type {\n",
       "        vertical-align: middle;\n",
       "    }\n",
       "\n",
       "    .dataframe tbody tr th {\n",
       "        vertical-align: top;\n",
       "    }\n",
       "\n",
       "    .dataframe thead th {\n",
       "        text-align: right;\n",
       "    }\n",
       "</style>\n",
       "<table border=\"1\" class=\"dataframe\">\n",
       "  <thead>\n",
       "    <tr style=\"text-align: right;\">\n",
       "      <th></th>\n",
       "      <th>Year</th>\n",
       "      <th>Month</th>\n",
       "      <th>Flights Booked</th>\n",
       "      <th>Flights with Companions</th>\n",
       "      <th>Total Flights</th>\n",
       "      <th>Distance</th>\n",
       "      <th>Points Accumulated</th>\n",
       "      <th>Points Redeemed</th>\n",
       "      <th>Dollar Cost Points Redeemed</th>\n",
       "    </tr>\n",
       "    <tr>\n",
       "      <th>Loyalty Number</th>\n",
       "      <th></th>\n",
       "      <th></th>\n",
       "      <th></th>\n",
       "      <th></th>\n",
       "      <th></th>\n",
       "      <th></th>\n",
       "      <th></th>\n",
       "      <th></th>\n",
       "      <th></th>\n",
       "    </tr>\n",
       "  </thead>\n",
       "  <tbody>\n",
       "    <tr>\n",
       "      <th>999940</th>\n",
       "      <td>2018</td>\n",
       "      <td>12</td>\n",
       "      <td>3</td>\n",
       "      <td>0</td>\n",
       "      <td>3</td>\n",
       "      <td>1233</td>\n",
       "      <td>123.0</td>\n",
       "      <td>0</td>\n",
       "      <td>0</td>\n",
       "    </tr>\n",
       "    <tr>\n",
       "      <th>999982</th>\n",
       "      <td>2018</td>\n",
       "      <td>12</td>\n",
       "      <td>0</td>\n",
       "      <td>0</td>\n",
       "      <td>0</td>\n",
       "      <td>0</td>\n",
       "      <td>0.0</td>\n",
       "      <td>0</td>\n",
       "      <td>0</td>\n",
       "    </tr>\n",
       "    <tr>\n",
       "      <th>999986</th>\n",
       "      <td>2018</td>\n",
       "      <td>12</td>\n",
       "      <td>0</td>\n",
       "      <td>0</td>\n",
       "      <td>0</td>\n",
       "      <td>0</td>\n",
       "      <td>0.0</td>\n",
       "      <td>0</td>\n",
       "      <td>0</td>\n",
       "    </tr>\n",
       "  </tbody>\n",
       "</table>\n",
       "</div>"
      ],
      "text/plain": [
       "                Year  Month  Flights Booked  Flights with Companions  \\\n",
       "Loyalty Number                                                         \n",
       "999940          2018     12               3                        0   \n",
       "999982          2018     12               0                        0   \n",
       "999986          2018     12               0                        0   \n",
       "\n",
       "                Total Flights  Distance  Points Accumulated  Points Redeemed  \\\n",
       "Loyalty Number                                                                 \n",
       "999940                      3      1233               123.0                0   \n",
       "999982                      0         0                 0.0                0   \n",
       "999986                      0         0                 0.0                0   \n",
       "\n",
       "                Dollar Cost Points Redeemed  \n",
       "Loyalty Number                               \n",
       "999940                                    0  \n",
       "999982                                    0  \n",
       "999986                                    0  "
      ]
     },
     "execution_count": 14,
     "metadata": {},
     "output_type": "execute_result"
    }
   ],
   "source": [
    "info_vuelos.tail(3)"
   ]
  },
  {
   "cell_type": "code",
   "execution_count": null,
   "id": "1b64f9d0",
   "metadata": {},
   "outputs": [],
   "source": [
    "#año termina en 2018 y mes en 12"
   ]
  },
  {
   "cell_type": "code",
   "execution_count": 15,
   "id": "c974b808",
   "metadata": {},
   "outputs": [
    {
     "name": "stdout",
     "output_type": "stream",
     "text": [
      "<class 'pandas.core.frame.DataFrame'>\n",
      "Index: 405624 entries, 100018 to 999986\n",
      "Data columns (total 9 columns):\n",
      " #   Column                       Non-Null Count   Dtype  \n",
      "---  ------                       --------------   -----  \n",
      " 0   Year                         405624 non-null  int64  \n",
      " 1   Month                        405624 non-null  int64  \n",
      " 2   Flights Booked               405624 non-null  int64  \n",
      " 3   Flights with Companions      405624 non-null  int64  \n",
      " 4   Total Flights                405624 non-null  int64  \n",
      " 5   Distance                     405624 non-null  int64  \n",
      " 6   Points Accumulated           405624 non-null  float64\n",
      " 7   Points Redeemed              405624 non-null  int64  \n",
      " 8   Dollar Cost Points Redeemed  405624 non-null  int64  \n",
      "dtypes: float64(1), int64(8)\n",
      "memory usage: 30.9 MB\n"
     ]
    }
   ],
   "source": [
    "info_vuelos.info()"
   ]
  },
  {
   "cell_type": "code",
   "execution_count": null,
   "id": "79dddc47",
   "metadata": {},
   "outputs": [],
   "source": [
    "#points acumulated y redeemed deberían ser del mismo tipo\n",
    "#dollar probablemente debería ser float\n",
    "#no hay ningún nulo??\n",
    "#distance debería ser un float"
   ]
  },
  {
   "cell_type": "code",
   "execution_count": 17,
   "id": "a3362417",
   "metadata": {},
   "outputs": [
    {
     "data": {
      "text/plain": [
       "Index(['Year', 'Month', 'Flights Booked', 'Flights with Companions',\n",
       "       'Total Flights', 'Distance', 'Points Accumulated', 'Points Redeemed',\n",
       "       'Dollar Cost Points Redeemed'],\n",
       "      dtype='object')"
      ]
     },
     "execution_count": 17,
     "metadata": {},
     "output_type": "execute_result"
    }
   ],
   "source": [
    "info_vuelos.columns"
   ]
  },
  {
   "cell_type": "code",
   "execution_count": 16,
   "id": "47e3ddb5",
   "metadata": {},
   "outputs": [
    {
     "data": {
      "text/html": [
       "<div>\n",
       "<style scoped>\n",
       "    .dataframe tbody tr th:only-of-type {\n",
       "        vertical-align: middle;\n",
       "    }\n",
       "\n",
       "    .dataframe tbody tr th {\n",
       "        vertical-align: top;\n",
       "    }\n",
       "\n",
       "    .dataframe thead th {\n",
       "        text-align: right;\n",
       "    }\n",
       "</style>\n",
       "<table border=\"1\" class=\"dataframe\">\n",
       "  <thead>\n",
       "    <tr style=\"text-align: right;\">\n",
       "      <th></th>\n",
       "      <th>count</th>\n",
       "      <th>mean</th>\n",
       "      <th>std</th>\n",
       "      <th>min</th>\n",
       "      <th>25%</th>\n",
       "      <th>50%</th>\n",
       "      <th>75%</th>\n",
       "      <th>max</th>\n",
       "    </tr>\n",
       "  </thead>\n",
       "  <tbody>\n",
       "    <tr>\n",
       "      <th>Year</th>\n",
       "      <td>405624.0</td>\n",
       "      <td>2017.500000</td>\n",
       "      <td>0.500001</td>\n",
       "      <td>2017.0</td>\n",
       "      <td>2017.00</td>\n",
       "      <td>2017.5</td>\n",
       "      <td>2018.00</td>\n",
       "      <td>2018.0</td>\n",
       "    </tr>\n",
       "    <tr>\n",
       "      <th>Month</th>\n",
       "      <td>405624.0</td>\n",
       "      <td>6.500000</td>\n",
       "      <td>3.452057</td>\n",
       "      <td>1.0</td>\n",
       "      <td>3.75</td>\n",
       "      <td>6.5</td>\n",
       "      <td>9.25</td>\n",
       "      <td>12.0</td>\n",
       "    </tr>\n",
       "    <tr>\n",
       "      <th>Flights Booked</th>\n",
       "      <td>405624.0</td>\n",
       "      <td>4.115052</td>\n",
       "      <td>5.225518</td>\n",
       "      <td>0.0</td>\n",
       "      <td>0.00</td>\n",
       "      <td>1.0</td>\n",
       "      <td>8.00</td>\n",
       "      <td>21.0</td>\n",
       "    </tr>\n",
       "    <tr>\n",
       "      <th>Flights with Companions</th>\n",
       "      <td>405624.0</td>\n",
       "      <td>1.031805</td>\n",
       "      <td>2.076869</td>\n",
       "      <td>0.0</td>\n",
       "      <td>0.00</td>\n",
       "      <td>0.0</td>\n",
       "      <td>1.00</td>\n",
       "      <td>11.0</td>\n",
       "    </tr>\n",
       "    <tr>\n",
       "      <th>Total Flights</th>\n",
       "      <td>405624.0</td>\n",
       "      <td>5.146858</td>\n",
       "      <td>6.521227</td>\n",
       "      <td>0.0</td>\n",
       "      <td>0.00</td>\n",
       "      <td>1.0</td>\n",
       "      <td>10.00</td>\n",
       "      <td>32.0</td>\n",
       "    </tr>\n",
       "    <tr>\n",
       "      <th>Distance</th>\n",
       "      <td>405624.0</td>\n",
       "      <td>1208.880059</td>\n",
       "      <td>1433.155320</td>\n",
       "      <td>0.0</td>\n",
       "      <td>0.00</td>\n",
       "      <td>488.0</td>\n",
       "      <td>2336.00</td>\n",
       "      <td>6293.0</td>\n",
       "    </tr>\n",
       "    <tr>\n",
       "      <th>Points Accumulated</th>\n",
       "      <td>405624.0</td>\n",
       "      <td>123.692721</td>\n",
       "      <td>146.599831</td>\n",
       "      <td>0.0</td>\n",
       "      <td>0.00</td>\n",
       "      <td>50.0</td>\n",
       "      <td>239.00</td>\n",
       "      <td>676.5</td>\n",
       "    </tr>\n",
       "    <tr>\n",
       "      <th>Points Redeemed</th>\n",
       "      <td>405624.0</td>\n",
       "      <td>30.696872</td>\n",
       "      <td>125.486049</td>\n",
       "      <td>0.0</td>\n",
       "      <td>0.00</td>\n",
       "      <td>0.0</td>\n",
       "      <td>0.00</td>\n",
       "      <td>876.0</td>\n",
       "    </tr>\n",
       "    <tr>\n",
       "      <th>Dollar Cost Points Redeemed</th>\n",
       "      <td>405624.0</td>\n",
       "      <td>2.484503</td>\n",
       "      <td>10.150038</td>\n",
       "      <td>0.0</td>\n",
       "      <td>0.00</td>\n",
       "      <td>0.0</td>\n",
       "      <td>0.00</td>\n",
       "      <td>71.0</td>\n",
       "    </tr>\n",
       "  </tbody>\n",
       "</table>\n",
       "</div>"
      ],
      "text/plain": [
       "                                count         mean          std     min  \\\n",
       "Year                         405624.0  2017.500000     0.500001  2017.0   \n",
       "Month                        405624.0     6.500000     3.452057     1.0   \n",
       "Flights Booked               405624.0     4.115052     5.225518     0.0   \n",
       "Flights with Companions      405624.0     1.031805     2.076869     0.0   \n",
       "Total Flights                405624.0     5.146858     6.521227     0.0   \n",
       "Distance                     405624.0  1208.880059  1433.155320     0.0   \n",
       "Points Accumulated           405624.0   123.692721   146.599831     0.0   \n",
       "Points Redeemed              405624.0    30.696872   125.486049     0.0   \n",
       "Dollar Cost Points Redeemed  405624.0     2.484503    10.150038     0.0   \n",
       "\n",
       "                                 25%     50%      75%     max  \n",
       "Year                         2017.00  2017.5  2018.00  2018.0  \n",
       "Month                           3.75     6.5     9.25    12.0  \n",
       "Flights Booked                  0.00     1.0     8.00    21.0  \n",
       "Flights with Companions         0.00     0.0     1.00    11.0  \n",
       "Total Flights                   0.00     1.0    10.00    32.0  \n",
       "Distance                        0.00   488.0  2336.00  6293.0  \n",
       "Points Accumulated              0.00    50.0   239.00   676.5  \n",
       "Points Redeemed                 0.00     0.0     0.00   876.0  \n",
       "Dollar Cost Points Redeemed     0.00     0.0     0.00    71.0  "
      ]
     },
     "execution_count": 16,
     "metadata": {},
     "output_type": "execute_result"
    }
   ],
   "source": [
    "info_vuelos.describe().T"
   ]
  },
  {
   "cell_type": "code",
   "execution_count": null,
   "id": "5e7875ea",
   "metadata": {},
   "outputs": [],
   "source": [
    "#efectivamente, por la media y mediana, vemos que solo hay años 2017 y 2018"
   ]
  },
  {
   "cell_type": "code",
   "execution_count": null,
   "id": "7280204e",
   "metadata": {},
   "outputs": [],
   "source": [
    "#'Points Accumulated', 'Points Redeemed' y 'Dollar Cost Points Redeemed' deberían tener relación entre ellas, hay que comprobarlo\n",
    "# 'Total Flights', 'Distance' también deberías tener relación, aunque menos fuerte\n",
    "#'Flights Booked' + 'Flights with Companions' deberían tener relación con 'Total Flights'. Sus valores máximos lo demuestran"
   ]
  },
  {
   "cell_type": "code",
   "execution_count": 19,
   "id": "da771a6d",
   "metadata": {},
   "outputs": [
    {
     "data": {
      "text/plain": [
       "Year                           0\n",
       "Month                          0\n",
       "Flights Booked                 0\n",
       "Flights with Companions        0\n",
       "Total Flights                  0\n",
       "Distance                       0\n",
       "Points Accumulated             0\n",
       "Points Redeemed                0\n",
       "Dollar Cost Points Redeemed    0\n",
       "dtype: int64"
      ]
     },
     "execution_count": 19,
     "metadata": {},
     "output_type": "execute_result"
    }
   ],
   "source": [
    "info_vuelos.isna().sum()"
   ]
  },
  {
   "cell_type": "code",
   "execution_count": 25,
   "id": "bf0192cd",
   "metadata": {},
   "outputs": [
    {
     "name": "stdout",
     "output_type": "stream",
     "text": [
      "en Year tenemos 2 valores únicos\n",
      "en Month tenemos 12 valores únicos\n",
      "en Flights Booked tenemos 22 valores únicos\n",
      "en Flights with Companions tenemos 12 valores únicos\n",
      "en Total Flights tenemos 33 valores únicos\n",
      "en Distance tenemos 4746 valores únicos\n",
      "en Points Accumulated tenemos 1549 valores únicos\n",
      "en Points Redeemed tenemos 587 valores únicos\n",
      "en Dollar Cost Points Redeemed tenemos 49 valores únicos\n"
     ]
    }
   ],
   "source": [
    "for c in info_vuelos.columns:\n",
    "    print(f'en {c} tenemos {info_vuelos[c].nunique()} valores únicos')"
   ]
  },
  {
   "cell_type": "code",
   "execution_count": null,
   "id": "a7bb6e84",
   "metadata": {},
   "outputs": [],
   "source": [
    "#me pregunto si los valores únicos de Dollar Cost Points Redeemed y Points Redeemed deberían ser los mismos?"
   ]
  },
  {
   "cell_type": "code",
   "execution_count": 26,
   "id": "b6f7823c",
   "metadata": {},
   "outputs": [
    {
     "data": {
      "text/plain": [
       "228705"
      ]
     },
     "execution_count": 26,
     "metadata": {},
     "output_type": "execute_result"
    }
   ],
   "source": [
    "info_vuelos.duplicated().sum()"
   ]
  },
  {
   "cell_type": "code",
   "execution_count": 32,
   "id": "95669369",
   "metadata": {},
   "outputs": [
    {
     "data": {
      "text/plain": [
       "Index([100018, 100102, 100140, 100214, 100272, 100301, 100364, 100380, 100428,\n",
       "       100504,\n",
       "       ...\n",
       "       999631, 999891, 999758, 999891, 999891, 999902, 999911, 999940, 999982,\n",
       "       999986],\n",
       "      dtype='int64', name='Loyalty Number', length=405624)"
      ]
     },
     "execution_count": 32,
     "metadata": {},
     "output_type": "execute_result"
    }
   ],
   "source": [
    "info_vuelos.index"
   ]
  }
 ],
 "metadata": {
  "kernelspec": {
   "display_name": "base",
   "language": "python",
   "name": "python3"
  },
  "language_info": {
   "codemirror_mode": {
    "name": "ipython",
    "version": 3
   },
   "file_extension": ".py",
   "mimetype": "text/x-python",
   "name": "python",
   "nbconvert_exporter": "python",
   "pygments_lexer": "ipython3",
   "version": "3.12.7"
  }
 },
 "nbformat": 4,
 "nbformat_minor": 5
}
