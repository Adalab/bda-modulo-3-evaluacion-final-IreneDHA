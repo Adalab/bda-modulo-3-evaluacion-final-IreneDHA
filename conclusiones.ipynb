{
 "cells": [
  {
   "cell_type": "markdown",
   "id": "474bedc9",
   "metadata": {},
   "source": [
    "Next steps y conclusiones tras la exploración inicial de ambos CSVs:\n",
    "- Solo tenemos información de clientes canadienses\n",
    "- Tenemos el mismo número de valores nulos en las columnas 'Cancellation Year' y 'Cancellation Month', lo cual tiene sentido ya que puede corresponder a clientes que no han cancelado su cuenta. Estas mismas columnas son de tipo float mientras que sus correlativas 'Enrollment Year' y 'Enrollment Month' son de tipo int.\n",
    "- También tenemos nulos en 'Salary'\n",
    "- En el CSV con información de clientes tenemos información desde 2012 hasta 2018. Mientras que en el CSV con información de vuelos solo tenemos de 2017 y 2018.\n",
    "- La columna 'Total Flights' es la suma de 'Flights Booked' y 'Flights With Companions'. Sin embargo, puede ser interesante mantener las 3 columnas ya que ofrecen información diferente.\n",
    "\n",
    "Limpieza y unión:\n",
    "- He unido ambos CSVs asegurándome de que toda la información del CSV de reservas se mantuviese.\n",
    "- He eliminado los duplicados del DF tras comprobar que toda la información estaba repetida. Dejando una de las filas para no perder información sobre esa reserva\n",
    "- He homogeneizado los nombres de las columnas con .title\n",
    "- He cambiado algunos tipos de datos por coherencia:\n",
    "\t- Distance: la distacia no siempre tiene que ser un número exacto. En el CSV original se mostraba como int y ahora es float\n",
    "\t- Dollar Cost Points Redeemed: lo mismo ocurre con esta columna. El precio no siempre es un úmero entero, es conveniente poder medir los céntimos por lo que la he convertido a float.\n",
    "- Next steps: \n",
    "\t- preguntarle a la aerolínea cómo funciona su sistema de puntos. \n",
    "\t- Eliminar los nulos en 'Salary'\n",
    "\n",
    "Análisis solicitado por la aerolínea:\n",
    "- ¿Cómo se distribuye la cantidad de vuelos reservados por mes durante el año?\n",
    "\tEl mes en el que más vuelos se reservan es julio. La temporada alta empieza en junio y termina en agosto. Los siguientes meses en los que más se venden vuelos, fuera de temperada alta son: diciembre y marzo. El mes en el que menos vuelos se venden es febrero\n",
    "- ¿Existe una relación entre la distancia de los vuelos y los puntos acumulados por los cliente?\n",
    "\tSí, tienen una relación fuerte,  y una correlación positiva: cuando una variable aumenta, la otra también aumenta.\n",
    "- ¿Cuál es la distribución de los clientes por provincia o estado?\n",
    "\tLos clientes viven principalmente en Ontario, British Columbia y Quebec. Peor hay clientes de 11 provincias distintas\n",
    "- ¿Cómo se compara el salario promedio entre los diferentes niveles educativos de los clientes?\n",
    "\tLos salarios más altos los tienen los clientes con doctorados y los más bajos clientes con un título no universitario. Recomendaría a la aerolína, si es posible, recopilar información sobre el puesto de trabajo o industria de los clientes, para entender mejor a los clientes (posibles usos: campañas de marketing, colaboraciones con empresas, etc.)\n",
    "- ¿Cuál es la proporción de clientes con diferentes tipos de tarjetas de fidelidad?\n",
    "\tLa tarjeta de fidelidad más popular es la Star, seguida de la Nova y, por último la Aurora\n",
    "- ¿Cómo se distribuyen los clientes según su estado civil y género?\n",
    "\tLa mayoría de los clientes están casados. Tanto las mujeres como los hombres se distribuyen de forma equitativa en cada categoría de estado civil. No hay diferencias significativas.\n",
    "\n",
    "Next steps que me resultan interesantes para un análisis más profundo:\n",
    "- 'Points Accumulated', 'Points Redeemed' y 'Dollar Cost Points Redeemed' deberían tener relación entre ellas, hay que comprobarlo\n",
    "- 'Total Flights', 'Distance' también deberías tener relación, aunque menos fuerte\n",
    "- 'Flights Booked' + 'Flights with Companions' deberían tener relación con 'Total Flights'. Sus valores máximos lo demuestran\n",
    "- el mínimo y el máximo de loyalty number son el mismo en ambos csvs, a pesar de que los años son diferentes\n",
    "- me pregunto si los valores únicos de Dollar Cost Points Redeemed y Points Redeemed deberían ser los mismos?"
   ]
  },
  {
   "cell_type": "code",
   "execution_count": null,
   "id": "15381929",
   "metadata": {
    "vscode": {
     "languageId": "plaintext"
    }
   },
   "outputs": [],
   "source": []
  }
 ],
 "metadata": {
  "language_info": {
   "name": "python"
  }
 },
 "nbformat": 4,
 "nbformat_minor": 5
}
