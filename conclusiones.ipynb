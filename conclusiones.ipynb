{
 "cells": [
  {
   "cell_type": "markdown",
   "id": "4d706440",
   "metadata": {},
   "source": [
    "Next steps tras la exploración inicial de ambos csvs:\n",
    "- Solo tenemos información de clientes canadienses\n",
    "- Tenemos el mismo número de valores nulos en las columnas 'Cancellation Year' y 'Cancellation Month', lo cual tiene sentido ya que puede cooresponder a clientes que no han cancelado su cuenta. Estas mismas columnas son de tipo float mientras que sus correlativas 'Enrollment Year' y 'Enrollment Month' son de tipo int.\n",
    "- También tenemos nulos en 'Salary'\n",
    "- En el csv con información de clientes tenemos información desde 2012 hasta 2018. Mientras que en el csv con información de vuelos solo tenemos de 2017 y 2018.\n",
    "- La columna 'total flights' es la suma de 'flights booked' y 'flights with companions'"
   ]
  },
  {
   "cell_type": "markdown",
   "id": "2c592b2d",
   "metadata": {},
   "source": [
    "Limpieza:\n",
    "- eliminación de duplicados\n",
    "- normalización de los nombres de las columnas con .title\n",
    "- cambio de algunos tipos de datos"
   ]
  },
  {
   "cell_type": "code",
   "execution_count": null,
   "id": "15381929",
   "metadata": {
    "vscode": {
     "languageId": "plaintext"
    }
   },
   "outputs": [],
   "source": []
  }
 ],
 "metadata": {
  "language_info": {
   "name": "python"
  }
 },
 "nbformat": 4,
 "nbformat_minor": 5
}
